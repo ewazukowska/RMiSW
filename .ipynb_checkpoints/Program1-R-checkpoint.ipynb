{
 "cells": [
  {
   "cell_type": "code",
   "execution_count": 3,
   "id": "7f80bc3b-8095-4042-addf-72d5208883cc",
   "metadata": {
    "tags": []
   },
   "outputs": [],
   "source": [
    "import numpy as np"
   ]
  },
  {
   "cell_type": "markdown",
   "id": "dfc24c9b3efd30bb",
   "metadata": {},
   "source": [
    "Dla macierzy o rozmiarze mniejszym lub równym 2l × 2l algorytm tradycyjny. \n",
    "Dla macierzy o rozmiarze większym od 2l × 2l algorytm rekurencyjny Binéta."
   ]
  },
  {
   "cell_type": "markdown",
   "id": "d7c2351df193154",
   "metadata": {},
   "source": [
    "1. Algorytm tradycyjny:"
   ]
  },
  {
   "cell_type": "code",
   "execution_count": 1,
   "id": "78e846770e9d649b",
   "metadata": {
    "collapsed": false,
    "jupyter": {
     "outputs_hidden": false
    },
    "tags": []
   },
   "outputs": [],
   "source": [
    "classic_multiplication <- function(mtr1, mtr2) {\n",
    "  # Number of operations: +-* /\n",
    "  flops <- 0\n",
    "  \n",
    "  sum <- 0\n",
    "  \n",
    "  # The shape of the result matrix will be: <number of rows from the first matrix> x <number of columns from the second matrix>\n",
    "  result_matrix <- matrix(0, nrow = nrow(mtr1), ncol = ncol(mtr2))\n",
    "  \n",
    "  # Number of columns in the first matrix = number of rows in the second matrix\n",
    "  # (this variable will help us with the most inner iteration)\n",
    "  size <- ncol(mtr1)\n",
    "  \n",
    "  # Iterate over rows of the first matrix\n",
    "  for (i in 1:nrow(mtr1)) {\n",
    "    \n",
    "    # Iterate over columns of the second matrix\n",
    "    for (j in 1:ncol(mtr2)) {\n",
    "      \n",
    "      # \"k\" denotes columns in the first matrix and rows in the second matrix\n",
    "      for (k in 1:size) {\n",
    "        \n",
    "        sum <- sum + mtr1[i, k] * mtr2[k, j]\n",
    "        flops <- flops + 2\n",
    "        \n",
    "      }\n",
    "      \n",
    "      result_matrix[i, j] <- sum\n",
    "      sum <- 0\n",
    "      \n",
    "    }\n",
    "  }\n",
    "  \n",
    "  # Return a list containing the result matrix and the number of operations\n",
    "  return(list(result_matrix, flops))\n",
    "}"
   ]
  },
  {
   "cell_type": "code",
   "execution_count": 2,
   "id": "3af18342-3548-4eca-a3b0-06d1259079e4",
   "metadata": {},
   "outputs": [
    {
     "name": "stdout",
     "output_type": "stream",
     "text": [
      "     [,1] [,2] [,3]\n",
      "[1,]    1    3    5\n",
      "[2,]    2    4    6\n",
      "     [,1] [,2] [,3]\n",
      "[1,]    1    4    1\n",
      "[2,]    2    5    2\n",
      "[3,]    3    6    1\n"
     ]
    }
   ],
   "source": [
    "# Example usage with two matrices\n",
    "# Macierze M1 i M2\n",
    "M1 <- matrix(c(1, 2, 3, 4, 5, 6), nrow = 2, ncol = 3)\n",
    "M2 <- matrix(c(1, 2, 3, 4, 5, 6, 1, 2, 1), nrow = 3, ncol = 3)\n",
    "\n",
    "# Display matrices\n",
    "print(M1)\n",
    "print(M2)"
   ]
  },
  {
   "cell_type": "code",
   "execution_count": 3,
   "id": "b9b205a3-6860-4cc2-a139-e76b20ae41ef",
   "metadata": {},
   "outputs": [
    {
     "name": "stdout",
     "output_type": "stream",
     "text": [
      "     [,1] [,2] [,3]\n",
      "[1,]   22   49   12\n",
      "[2,]   28   64   16\n",
      "[1] 36\n"
     ]
    }
   ],
   "source": [
    "result <- classic_multiplication(M1, M2)\n",
    "print(result[[1]])  # Result matrix\n",
    "print(result[[2]])  # Number of operations\n"
   ]
  },
  {
   "cell_type": "markdown",
   "id": "f4f8a018000c796c",
   "metadata": {},
   "source": [
    "2. Algorytm Strassena"
   ]
  },
  {
   "cell_type": "code",
   "execution_count": 25,
   "id": "9ea53562c1f14465",
   "metadata": {
    "collapsed": false,
    "jupyter": {
     "outputs_hidden": false
    }
   },
   "outputs": [],
   "source": [
    "strassen_multiplication <- function(A, B) {\n",
    "  n <- nrow(A)\n",
    "  # Number of operations: +-* /\n",
    "  nflops <- 0\n",
    "  \n",
    "  # base condition\n",
    "  if (n <= 2) {\n",
    "    return(classic_multiplication(A, B))\n",
    "  }\n",
    "  \n",
    "  # division into \"sub\" matrices\n",
    "  new_size <- n %/% 2\n",
    "  A11 <- A[1:new_size, 1:new_size]\n",
    "  A12 <- A[1:new_size, (new_size + 1):n]\n",
    "  A21 <- A[(new_size + 1):n, 1:new_size]\n",
    "  A22 <- A[(new_size + 1):n, (new_size + 1):n]\n",
    "  \n",
    "  B11 <- B[1:new_size, 1:new_size]\n",
    "  B12 <- B[1:new_size, (new_size + 1):n]\n",
    "  B21 <- B[(new_size + 1):n, 1:new_size]\n",
    "  B22 <- B[(new_size + 1):n, (new_size + 1):n]\n",
    "  \n",
    "  # Recursive multiplication of matrices\n",
    "  P1 <- strassen_multiplication(A11 + A22, B11 + B22)[[1]]\n",
    "  P2 <- strassen_multiplication(A21 + A22, B11)[[1]]\n",
    "  P3 <- strassen_multiplication(A11, B12 - B22)[[1]]\n",
    "  P4 <- strassen_multiplication(A22, B21 - B11)[[1]]\n",
    "  P5 <- strassen_multiplication(A11 + A12, B22)[[1]]\n",
    "  P6 <- strassen_multiplication(A21 - A11, B11 + B12)[[1]]\n",
    "  P7 <- strassen_multiplication(A12 - A22, B21 + B22)[[1]]\n",
    "  \n",
    "  # formula from the lecture\n",
    "  C11 <- P1 + P4 - P5 + P7\n",
    "  C12 <- P3 + P5\n",
    "  C21 <- P2 + P4\n",
    "  C22 <- P1 - P2 + P3 + P6\n",
    "  \n",
    "  # joining results into one matrix\n",
    "  result <- matrix(0, n, n)\n",
    "  result[1:new_size, 1:new_size] <- C11\n",
    "  result[1:new_size, (new_size + 1):n] <- C12\n",
    "  result[(new_size + 1):n, 1:new_size] <- C21\n",
    "  result[(new_size + 1):n, (new_size + 1):n] <- C22\n",
    "  \n",
    "  return(list(result, nflops))\n",
    "}"
   ]
  },
  {
   "cell_type": "code",
   "execution_count": 26,
   "id": "fc27ca5b-8965-4823-9411-6315885c627a",
   "metadata": {},
   "outputs": [],
   "source": [
    "A <- matrix(c(1, 2, 3, 4, 5, 6, 7, 8, 9, 10, 11, 12, 13, 14, 15, 16), nrow = 4)\n",
    "B <- matrix(c(17, 18, 19, 20, 21, 22, 23, 24, 25, 26, 27, 28, 29, 30, 31, 32), nrow = 4)"
   ]
  },
  {
   "cell_type": "code",
   "execution_count": 27,
   "id": "01056ee7-aafc-41c8-96b5-e8cf4a6425d7",
   "metadata": {},
   "outputs": [
    {
     "name": "stdout",
     "output_type": "stream",
     "text": [
      "     [,1] [,2] [,3] [,4]\n",
      "[1,]  538  650  762  874\n",
      "[2,]  612  740  868  996\n",
      "[3,]  686  830  974 1118\n",
      "[4,]  760  920 1080 1240\n",
      "[1] 0\n"
     ]
    }
   ],
   "source": [
    "result <- strassen_multiplication(A, B)\n",
    "print(result[[1]])  # Result matrix\n",
    "print(result[[2]])  # Number of operations"
   ]
  },
  {
   "cell_type": "markdown",
   "id": "48a85f088326493",
   "metadata": {},
   "source": [
    "Proszę przygotować następujący raport\n",
    "\n",
    "Proszę opisać pseudo-kod swojego rekurencyjnego mnożenia macierzy \n",
    "(uwzględniając dwa poziomy swojego algorytmu)\n",
    "\n",
    "Proszę narysować wykres: oś pozioma rozmiar macierzy\n",
    "2k ×2k dlak=2,3,4,...,16(ilesięuda), oś pionowaczas mnożenia swoją metodą rekurencyjną. \n",
    "\n",
    "Proszę narysować różne wykresy dla wybranych l z przedziału 2 < l < k.\n",
    "\n",
    "Proszę narysować wykres: oś pozioma rozmiar macierzy 2k × 2k dla k=2,3,4,...,16 (ile się uda),\n",
    "oś pionowa liczba operacji zmienno-kierunkowych swoją metodą rekurencyjną. \n",
    "\n",
    "Proszę narysować różne wykresy dla wybranych l z przedziału 2 < l < k."
   ]
  },
  {
   "cell_type": "code",
   "execution_count": null,
   "id": "ba6a10514c5e2b15",
   "metadata": {
    "collapsed": false,
    "jupyter": {
     "outputs_hidden": false
    }
   },
   "outputs": [],
   "source": []
  }
 ],
 "metadata": {
  "kernelspec": {
   "display_name": "R",
   "language": "R",
   "name": "ir"
  },
  "language_info": {
   "codemirror_mode": "r",
   "file_extension": ".r",
   "mimetype": "text/x-r-source",
   "name": "R",
   "pygments_lexer": "r",
   "version": "3.6.0"
  }
 },
 "nbformat": 4,
 "nbformat_minor": 5
}
