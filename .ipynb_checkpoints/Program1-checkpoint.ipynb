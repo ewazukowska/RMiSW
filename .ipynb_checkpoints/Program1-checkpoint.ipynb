{
 "cells": [
  {
   "cell_type": "code",
   "execution_count": 3,
   "id": "7f80bc3b-8095-4042-addf-72d5208883cc",
   "metadata": {
    "tags": []
   },
   "outputs": [],
   "source": [
    "import numpy as np"
   ]
  },
  {
   "cell_type": "markdown",
   "id": "dfc24c9b3efd30bb",
   "metadata": {},
   "source": [
    "Dla macierzy o rozmiarze mniejszym lub równym 2l × 2l algorytm tradycyjny. \n",
    "Dla macierzy o rozmiarze większym od 2l × 2l algorytm rekurencyjny Binéta."
   ]
  },
  {
   "cell_type": "code",
   "execution_count": null,
   "id": "e2dff011d8ec162f",
   "metadata": {
    "collapsed": false,
    "jupyter": {
     "outputs_hidden": false
    }
   },
   "outputs": [],
   "source": []
  },
  {
   "cell_type": "markdown",
   "id": "d7c2351df193154",
   "metadata": {},
   "source": [
    "1. Algorytm tradycyjny:"
   ]
  },
  {
   "cell_type": "code",
   "execution_count": 41,
   "id": "8af5ffdf-c5c9-4ee5-932f-495aa6724b39",
   "metadata": {
    "tags": []
   },
   "outputs": [],
   "source": [
    "M1 = np.array([[1, 2, 3], [4, 5, 6]])\n",
    "M2 = np.array([[1, 2, 3], [4, 5, 6], [1, 2, 1]])"
   ]
  },
  {
   "cell_type": "code",
   "execution_count": 50,
   "id": "78e846770e9d649b",
   "metadata": {
    "collapsed": false,
    "jupyter": {
     "outputs_hidden": false
    },
    "tags": []
   },
   "outputs": [],
   "source": [
    "def classic_multiplication(mtr1, mtr2):\n",
    "    \n",
    "    # number of operations: +-*/\n",
    "    flops = 0\n",
    "    \n",
    "    sum = 0\n",
    "    \n",
    "    # the shape of the result matrix will be:   <num of rows from the first matrix> x <num of column from the second matrix>\n",
    "    result_matrix = np.zeros((mtr1.shape[0], mtr2.shape[1]))\n",
    "    \n",
    "    # number of columns in the first matrix = number of rows in the second matrix \n",
    "    # (this variable will help us with the most inner iteration)\n",
    "    size = mtr1.shape[1]\n",
    "    \n",
    "    # iterate over rows of the first matrix\n",
    "    for i in range(mtr1.shape[0]):\n",
    "        \n",
    "        # iterate over columns of the second matrix\n",
    "        for j in range(mtr2.shape[1]):\n",
    "            \n",
    "            # \"k\" denotes columns in the first matrix and rows in the second matrix\n",
    "            for k in range(size):\n",
    "                \n",
    "                sum = sum + mtr1[i][k] * mtr2[k][j]\n",
    "                flops += 2\n",
    "            \n",
    "            result_matrix[i][j] = sum\n",
    "            sum = 0\n",
    "            \n",
    "    return [result_matrix, flops]"
   ]
  },
  {
   "cell_type": "code",
   "execution_count": 55,
   "id": "6ff2f3c0-61bd-4855-bc69-999cab85eefd",
   "metadata": {
    "tags": []
   },
   "outputs": [
    {
     "name": "stdout",
     "output_type": "stream",
     "text": [
      "Result matrix:\n",
      "[[12. 18. 18.]\n",
      " [30. 45. 48.]]\n",
      "\n",
      "Flops (floating point operations):\n",
      "36\n"
     ]
    }
   ],
   "source": [
    "res, flops = classic_multiplication(M1, M2)\n",
    "print(f\"Result matrix:\\n{res}\\n\\nFlops (floating point operations):\\n{flops}\")"
   ]
  },
  {
   "cell_type": "markdown",
   "id": "f4f8a018000c796c",
   "metadata": {},
   "source": [
    "2. Algorytm Bineta"
   ]
  },
  {
   "cell_type": "code",
   "execution_count": null,
   "id": "9ea53562c1f14465",
   "metadata": {
    "collapsed": false,
    "jupyter": {
     "outputs_hidden": false
    }
   },
   "outputs": [],
   "source": []
  },
  {
   "cell_type": "markdown",
   "id": "48a85f088326493",
   "metadata": {},
   "source": [
    "Proszę przygotować następujący raport\n",
    "Proszę opisać pseudo-kod swojego rekurencyjnego mnożenia macierzy \n",
    "(uwzględniając dwa poziomy swojego algorytmu)\n",
    "Proszę narysować wykres: oś pozioma rozmiar macierzy\n",
    "2k ×2k dlak=2,3,4,...,16(ilesięuda), oś pionowaczas mnożenia swoją metodą rekurencyjną. \n",
    "Proszę narysować różne wykresy dla wybranych l z przedziału 2 < l < k.\n",
    "Proszę narysować wykres: oś pozioma rozmiar macierzy 2k × 2k dla k=2,3,4,...,16 (ile się uda),\n",
    "oś pionowa liczba operacji zmienno-kierunkowych swoją metodą rekurencyjną. \n",
    "Proszę narysować różne wykresy dla wybranych l z przedziału 2 < l < k."
   ]
  },
  {
   "cell_type": "code",
   "execution_count": null,
   "id": "ba6a10514c5e2b15",
   "metadata": {
    "collapsed": false,
    "jupyter": {
     "outputs_hidden": false
    }
   },
   "outputs": [],
   "source": []
  }
 ],
 "metadata": {
  "kernelspec": {
   "display_name": "Python 3 (ipykernel)",
   "language": "python",
   "name": "python3"
  },
  "language_info": {
   "codemirror_mode": {
    "name": "ipython",
    "version": 3
   },
   "file_extension": ".py",
   "mimetype": "text/x-python",
   "name": "python",
   "nbconvert_exporter": "python",
   "pygments_lexer": "ipython3",
   "version": "3.11.5"
  }
 },
 "nbformat": 4,
 "nbformat_minor": 5
}
