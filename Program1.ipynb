{
 "cells": [
  {
   "cell_type": "markdown",
   "source": [
    "Dla macierzy o rozmiarze mniejszym lub równym 2l × 2l algorytm tradycyjny. \n",
    "Dla macierzy o rozmiarze większym od 2l × 2l algorytm rekurencyjny Binéta."
   ],
   "metadata": {
    "collapsed": false
   },
   "id": "dfc24c9b3efd30bb"
  },
  {
   "cell_type": "code",
   "execution_count": null,
   "outputs": [],
   "source": [],
   "metadata": {
    "collapsed": false
   },
   "id": "e2dff011d8ec162f"
  },
  {
   "cell_type": "markdown",
   "source": [
    "1. Algorytm tradycyjny:"
   ],
   "metadata": {
    "collapsed": false
   },
   "id": "d7c2351df193154"
  },
  {
   "cell_type": "code",
   "execution_count": null,
   "outputs": [],
   "source": [],
   "metadata": {
    "collapsed": false
   },
   "id": "78e846770e9d649b"
  },
  {
   "cell_type": "markdown",
   "source": [
    "2. Algorytm Bineta"
   ],
   "metadata": {
    "collapsed": false
   },
   "id": "f4f8a018000c796c"
  },
  {
   "cell_type": "code",
   "execution_count": null,
   "outputs": [],
   "source": [],
   "metadata": {
    "collapsed": false
   },
   "id": "9ea53562c1f14465"
  },
  {
   "cell_type": "markdown",
   "source": [
    "Proszę przygotować następujący raport\n",
    "Proszę opisać pseudo-kod swojego rekurencyjnego mnożenia macierzy \n",
    "(uwzględniając dwa poziomy swojego algorytmu)\n",
    "Proszę narysować wykres: oś pozioma rozmiar macierzy\n",
    "2k ×2k dlak=2,3,4,...,16(ilesięuda), oś pionowaczas mnożenia swoją metodą rekurencyjną. \n",
    "Proszę narysować różne wykresy dla wybranych l z przedziału 2 < l < k.\n",
    "Proszę narysować wykres: oś pozioma rozmiar macierzy 2k × 2k dla k=2,3,4,...,16 (ile się uda),\n",
    "oś pionowa liczba operacji zmienno-kierunkowych swoją metodą rekurencyjną. \n",
    "Proszę narysować różne wykresy dla wybranych l z przedziału 2 < l < k."
   ],
   "metadata": {
    "collapsed": false
   },
   "id": "48a85f088326493"
  },
  {
   "cell_type": "code",
   "execution_count": null,
   "outputs": [],
   "source": [],
   "metadata": {
    "collapsed": false
   },
   "id": "ba6a10514c5e2b15"
  }
 ],
 "metadata": {
  "kernelspec": {
   "display_name": "Python 3",
   "language": "python",
   "name": "python3"
  },
  "language_info": {
   "codemirror_mode": {
    "name": "ipython",
    "version": 2
   },
   "file_extension": ".py",
   "mimetype": "text/x-python",
   "name": "python",
   "nbconvert_exporter": "python",
   "pygments_lexer": "ipython2",
   "version": "2.7.6"
  }
 },
 "nbformat": 4,
 "nbformat_minor": 5
}
