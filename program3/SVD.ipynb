{
 "cells": [
  {
   "metadata": {},
   "cell_type": "markdown",
   "source": "# SVD",
   "id": "bfa23663b2e1c155"
  },
  {
   "metadata": {
    "ExecuteTime": {
     "end_time": "2024-04-16T16:51:18.222402Z",
     "start_time": "2024-04-16T16:51:18.170283Z"
    }
   },
   "cell_type": "code",
   "source": [
    "import numpy as np\n",
    "\n",
    "def svd(A):\n",
    "    # Obliczenie macierzy kowariancji\n",
    "    C = np.dot(A.T, A)\n",
    "    \n",
    "    # Znalezienie dominujących wektorów własnych macierzy kowariancji\n",
    "    eigenvalues, eigenvectors = np.linalg.eigh(C)\n",
    "    # Przekształcenie dominujących wektorów własnych na macierze ortogonalne U i V\n",
    "    U = eigenvectors\n",
    "    V = np.dot(A, U) / np.linalg.norm(np.dot(A, U), axis=0)\n",
    "    \n",
    "    # Obliczenie macierzy Sigma\n",
    "    s = np.sqrt(np.abs(eigenvalues))\n",
    "    Sigma = np.diag(sigma)\n",
    "    \n",
    "    return U, Sigma, V.T"
   ],
   "id": "66df991baab22e20",
   "outputs": [],
   "execution_count": 1
  },
  {
   "metadata": {
    "ExecuteTime": {
     "end_time": "2024-04-16T16:51:54.811631Z",
     "start_time": "2024-04-16T16:51:54.807447Z"
    }
   },
   "cell_type": "code",
   "source": [
    "A = np.array([[1, 2], [3, 4], [5, 6]])\n",
    "U, Sigma, Vt = svd(A)\n"
   ],
   "id": "fa4039213b91883f",
   "outputs": [],
   "execution_count": 2
  },
  {
   "metadata": {
    "ExecuteTime": {
     "end_time": "2024-04-16T17:16:01.675321Z",
     "start_time": "2024-04-16T17:16:01.672058Z"
    }
   },
   "cell_type": "code",
   "source": [
    "print(\"Macierz U:\")\n",
    "print(U)\n",
    "print(\"Macierz Sigma:\")\n",
    "print(Sigma)\n",
    "print(\"Macierz V transponowane:\")\n",
    "print(Vt)\n",
    "print(\"Macierz U*∑*V^T = A:\")\n",
    "print(U@Sigma@Vt)"
   ],
   "id": "1b0735c4d28d5ec5",
   "outputs": [
    {
     "name": "stdout",
     "output_type": "stream",
     "text": [
      "Macierz U:\n",
      "[[-0.78489445  0.61962948]\n",
      " [ 0.61962948  0.78489445]]\n",
      "Macierz Sigma:\n",
      "[[0.51430058 0.        ]\n",
      " [0.         9.52551809]]\n",
      "Macierz V transponowane:\n",
      "[[ 0.88346102  0.24078249 -0.40189603]\n",
      " [ 0.2298477   0.52474482  0.81964194]]\n",
      "Macierz U*∑*V^T = A:\n",
      "[[1. 3. 5.]\n",
      " [2. 4. 6.]]\n"
     ]
    }
   ],
   "execution_count": 14
  },
  {
   "metadata": {
    "ExecuteTime": {
     "end_time": "2024-04-16T16:52:19.129558Z",
     "start_time": "2024-04-16T16:52:19.125119Z"
    }
   },
   "cell_type": "code",
   "source": "U@Sigma@Vt",
   "id": "8bf8192066b5ed70",
   "outputs": [
    {
     "data": {
      "text/plain": [
       "array([[1., 3., 5.],\n",
       "       [2., 4., 6.]])"
      ]
     },
     "execution_count": 4,
     "metadata": {},
     "output_type": "execute_result"
    }
   ],
   "execution_count": 4
  },
  {
   "metadata": {},
   "cell_type": "code",
   "outputs": [],
   "execution_count": null,
   "source": "",
   "id": "8bfef626cc143ddc"
  }
 ],
 "metadata": {
  "kernelspec": {
   "display_name": "Python 3",
   "language": "python",
   "name": "python3"
  },
  "language_info": {
   "codemirror_mode": {
    "name": "ipython",
    "version": 2
   },
   "file_extension": ".py",
   "mimetype": "text/x-python",
   "name": "python",
   "nbconvert_exporter": "python",
   "pygments_lexer": "ipython2",
   "version": "2.7.6"
  }
 },
 "nbformat": 4,
 "nbformat_minor": 5
}
