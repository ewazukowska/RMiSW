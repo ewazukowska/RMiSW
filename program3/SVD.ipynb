{
 "cells": [
  {
   "metadata": {},
   "cell_type": "markdown",
   "source": "# SVD",
   "id": "bfa23663b2e1c155"
  },
  {
   "metadata": {
    "ExecuteTime": {
     "end_time": "2024-04-16T16:51:18.222402Z",
     "start_time": "2024-04-16T16:51:18.170283Z"
    }
   },
   "cell_type": "code",
   "source": [
    "import numpy as np\n",
    "\n",
    "def svd(A):\n",
    "    # Obliczenie macierzy kowariancji\n",
    "    C = np.dot(A.T, A)\n",
    "    \n",
    "    # Znalezienie dominujących wektorów własnych macierzy kowariancji\n",
    "    eigenvalues, eigenvectors = np.linalg.eigh(C)\n",
    "    # Przekształcenie dominujących wektorów własnych na macierze ortogonalne U i V\n",
    "    U = eigenvectors\n",
    "    V = np.dot(A, U) / np.linalg.norm(np.dot(A, U), axis=0)\n",
    "    \n",
    "    # Obliczenie macierzy Sigma\n",
    "    s = np.sqrt(np.abs(eigenvalues))\n",
    "    Sigma = np.diag(sigma)\n",
    "    \n",
    "    return U, Sigma, V.T"
   ],
   "id": "66df991baab22e20",
   "outputs": [],
   "execution_count": 1
  },
  {
   "metadata": {
    "ExecuteTime": {
     "end_time": "2024-04-16T17:56:05.997038Z",
     "start_time": "2024-04-16T17:56:05.992523Z"
    }
   },
   "cell_type": "code",
   "source": [
    "A = np.array([[4, 9, 2], [3, 5, 7], [8, 1, 6]])\n",
    "\n",
    "U, Sigma, Vt = svd(A)\n"
   ],
   "id": "fa4039213b91883f",
   "outputs": [],
   "execution_count": 15
  },
  {
   "metadata": {
    "ExecuteTime": {
     "end_time": "2024-04-16T17:56:06.589578Z",
     "start_time": "2024-04-16T17:56:06.586124Z"
    }
   },
   "cell_type": "code",
   "source": [
    "print(\"Macierz U:\")\n",
    "print(U)\n",
    "print(\"Macierz Sigma:\")\n",
    "print(Sigma)\n",
    "print(\"Macierz V transponowane:\")\n",
    "print(Vt)\n",
    "print(\"Macierz U*∑*V^T = A:\")\n",
    "print(U@Sigma@Vt)"
   ],
   "id": "1b0735c4d28d5ec5",
   "outputs": [
    {
     "name": "stdout",
     "output_type": "stream",
     "text": [
      "Macierz U:\n",
      "[[-7.07106781e-01  4.08248290e-01 -5.77350269e-01]\n",
      " [-2.22044605e-16 -8.16496581e-01 -5.77350269e-01]\n",
      " [ 7.07106781e-01  4.08248290e-01 -5.77350269e-01]]\n",
      "Macierz Sigma:\n",
      "[[ 3.46410162  0.          0.        ]\n",
      " [ 0.          6.92820323  0.        ]\n",
      " [ 0.          0.         15.        ]]\n",
      "Macierz V transponowane:\n",
      "[[-4.08248290e-01  8.16496581e-01 -4.08248290e-01]\n",
      " [-7.07106781e-01 -1.28197512e-16  7.07106781e-01]\n",
      " [-5.77350269e-01 -5.77350269e-01 -5.77350269e-01]]\n",
      "Macierz U*∑*V^T = A:\n",
      "[[4. 3. 8.]\n",
      " [9. 5. 1.]\n",
      " [2. 7. 6.]]\n"
     ]
    }
   ],
   "execution_count": 16
  },
  {
   "metadata": {
    "ExecuteTime": {
     "end_time": "2024-04-16T16:52:19.129558Z",
     "start_time": "2024-04-16T16:52:19.125119Z"
    }
   },
   "cell_type": "code",
   "source": "U@Sigma@Vt",
   "id": "8bf8192066b5ed70",
   "outputs": [
    {
     "data": {
      "text/plain": [
       "array([[1., 3., 5.],\n",
       "       [2., 4., 6.]])"
      ]
     },
     "execution_count": 4,
     "metadata": {},
     "output_type": "execute_result"
    }
   ],
   "execution_count": 4
  },
  {
   "metadata": {},
   "cell_type": "code",
   "outputs": [],
   "execution_count": null,
   "source": "",
   "id": "8bfef626cc143ddc"
  }
 ],
 "metadata": {
  "kernelspec": {
   "display_name": "Python 3",
   "language": "python",
   "name": "python3"
  },
  "language_info": {
   "codemirror_mode": {
    "name": "ipython",
    "version": 2
   },
   "file_extension": ".py",
   "mimetype": "text/x-python",
   "name": "python",
   "nbconvert_exporter": "python",
   "pygments_lexer": "ipython2",
   "version": "2.7.6"
  }
 },
 "nbformat": 4,
 "nbformat_minor": 5
}
