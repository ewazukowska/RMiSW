{
 "cells": [
  {
   "cell_type": "code",
   "id": "93c3066e-c846-48e9-b861-4f4b9284bd49",
   "metadata": {
    "ExecuteTime": {
     "end_time": "2024-04-16T16:51:06.707035Z",
     "start_time": "2024-04-16T16:51:06.654467Z"
    }
   },
   "source": [
    "import numpy as np"
   ],
   "outputs": [],
   "execution_count": 1
  },
  {
   "cell_type": "code",
   "id": "cf32ee4f-b2d5-42d9-b158-aa2886b62cc4",
   "metadata": {
    "ExecuteTime": {
     "end_time": "2024-04-16T18:09:59.560874Z",
     "start_time": "2024-04-16T18:09:59.558546Z"
    }
   },
   "source": [
    "# macierz z wykładu\n",
    "a1 = np.array([[1, 2], [3, 4]])"
   ],
   "outputs": [],
   "execution_count": 7
  },
  {
   "cell_type": "markdown",
   "id": "13a44fae-d202-429f-ab11-5412f5f0f094",
   "metadata": {},
   "source": [
    "### Norma indukowana jedynkowa"
   ]
  },
  {
   "cell_type": "code",
   "id": "9d2bb723-cee1-4892-9aaa-bbe5eff76635",
   "metadata": {
    "ExecuteTime": {
     "end_time": "2024-04-16T18:10:04.380558Z",
     "start_time": "2024-04-16T18:10:04.377620Z"
    }
   },
   "source": [
    "# maksymalna suma wartości bezwzględnych z kolumn\n",
    "def norm1(m):\n",
    "    a = m.T\n",
    "    return np.max([sum(abs(row))for row in a])"
   ],
   "outputs": [],
   "execution_count": 9
  },
  {
   "cell_type": "code",
   "id": "c9aa7ea1-06cd-4669-b1d3-071333258e6b",
   "metadata": {
    "ExecuteTime": {
     "end_time": "2024-04-16T18:10:04.950482Z",
     "start_time": "2024-04-16T18:10:04.947336Z"
    }
   },
   "source": [
    "norm1(a1)"
   ],
   "outputs": [
    {
     "data": {
      "text/plain": [
       "6"
      ]
     },
     "execution_count": 10,
     "metadata": {},
     "output_type": "execute_result"
    }
   ],
   "execution_count": 10
  },
  {
   "cell_type": "markdown",
   "id": "a8669228-3917-4b0d-b80f-4b54b5cef9c4",
   "metadata": {},
   "source": [
    "### Norma indukowana nieskończoność"
   ]
  },
  {
   "cell_type": "code",
   "execution_count": 148,
   "id": "6e61879a-351a-42e4-9c18-300b100355b8",
   "metadata": {},
   "outputs": [],
   "source": [
    "# maksymalna suma wartości bezwzględnych z wierszy\n",
    "def norm_inf(m):\n",
    "    return np.max([sum(abs(row)) for row in m])"
   ]
  },
  {
   "cell_type": "code",
   "execution_count": 149,
   "id": "899aa39a-44be-4713-9932-4686af3b5ea9",
   "metadata": {},
   "outputs": [
    {
     "data": {
      "text/plain": [
       "7"
      ]
     },
     "execution_count": 149,
     "metadata": {},
     "output_type": "execute_result"
    }
   ],
   "source": [
    "norm_inf(a1)"
   ]
  },
  {
   "cell_type": "markdown",
   "id": "0069fab6-98ca-4709-8ba1-af1452f96113",
   "metadata": {},
   "source": [
    "### Norma indukowana dwójkowa"
   ]
  },
  {
   "cell_type": "code",
   "execution_count": 150,
   "id": "760560e6-3a07-4328-8fb1-080d2dc8e68f",
   "metadata": {},
   "outputs": [],
   "source": [
    "#lambda_i jest do największa na moduł wartość własna macierzy A\n",
    "def norm2(m):\n",
    "    return np.max(abs(np.linalg.eig(m).eigenvalues))"
   ]
  },
  {
   "cell_type": "code",
   "execution_count": 151,
   "id": "29e62788-7990-4e15-9539-ee8b95fcf6e8",
   "metadata": {},
   "outputs": [
    {
     "data": {
      "text/plain": [
       "5.372281323269014"
      ]
     },
     "execution_count": 151,
     "metadata": {},
     "output_type": "execute_result"
    }
   ],
   "source": [
    "norm2(a1)"
   ]
  },
  {
   "cell_type": "markdown",
   "id": "979dfac6-cbdd-4137-9c43-0daa7de9a0af",
   "metadata": {},
   "source": [
    "### p-norma macierzowa"
   ]
  },
  {
   "cell_type": "code",
   "id": "390ae64d-8182-49be-a233-513821abc0c8",
   "metadata": {
    "ExecuteTime": {
     "end_time": "2024-04-16T18:06:20.736615Z",
     "start_time": "2024-04-16T18:06:20.733867Z"
    }
   },
   "source": [
    "def normp(m, p):\n",
    "    inner = np.sum(np.power(np.abs(m), p))\n",
    "    outer = np.power(inner, (1/p))\n",
    "    return outer"
   ],
   "outputs": [],
   "execution_count": 2
  },
  {
   "cell_type": "code",
   "id": "802cc198-7917-41c4-b1f9-849b3c4bec1c",
   "metadata": {
    "ExecuteTime": {
     "end_time": "2024-04-16T18:09:51.079701Z",
     "start_time": "2024-04-16T18:09:51.076596Z"
    }
   },
   "source": "normp(a1, 1)",
   "outputs": [
    {
     "data": {
      "text/plain": [
       "10.0"
      ]
     },
     "execution_count": 6,
     "metadata": {},
     "output_type": "execute_result"
    }
   ],
   "execution_count": 6
  },
  {
   "cell_type": "markdown",
   "id": "c4c6cbc0-c101-4cab-82e8-bb7993671d47",
   "metadata": {},
   "source": [
    "### Współczynnik uwarunkowania macierzy"
   ]
  },
  {
   "cell_type": "code",
   "execution_count": 154,
   "id": "cf47b584-c582-4469-94a2-75a171b9c2eb",
   "metadata": {},
   "outputs": [],
   "source": [
    "reversed = np.linalg.inv(a1)"
   ]
  },
  {
   "cell_type": "code",
   "execution_count": 155,
   "id": "3daf61fb-4de2-4c60-b0eb-1d3d8e769578",
   "metadata": {},
   "outputs": [
    {
     "data": {
      "text/plain": [
       "20.999999999999993"
      ]
     },
     "execution_count": 155,
     "metadata": {},
     "output_type": "execute_result"
    }
   ],
   "source": [
    "norm1(a1) * norm1(reversed)"
   ]
  },
  {
   "cell_type": "code",
   "execution_count": 156,
   "id": "74c9969d-4b7c-45b6-9d2c-ee9d062987da",
   "metadata": {},
   "outputs": [
    {
     "data": {
      "text/plain": [
       "14.43070330817253"
      ]
     },
     "execution_count": 156,
     "metadata": {},
     "output_type": "execute_result"
    }
   ],
   "source": [
    "norm2(a1) * norm2(reversed)"
   ]
  },
  {
   "cell_type": "code",
   "execution_count": 157,
   "id": "24cd0e9e-8046-476f-a02a-8b98aad6ebdd",
   "metadata": {},
   "outputs": [
    {
     "data": {
      "text/plain": [
       "14.999999999999998"
      ]
     },
     "execution_count": 157,
     "metadata": {},
     "output_type": "execute_result"
    }
   ],
   "source": [
    "normp(a1, 2) * normp(reversed, 2)"
   ]
  },
  {
   "cell_type": "code",
   "execution_count": 158,
   "id": "223f8388-10e9-45c4-ac20-37a51ed0ffa1",
   "metadata": {},
   "outputs": [
    {
     "data": {
      "text/plain": [
       "20.999999999999993"
      ]
     },
     "execution_count": 158,
     "metadata": {},
     "output_type": "execute_result"
    }
   ],
   "source": [
    "norm_inf(a1) * norm_inf(reversed)"
   ]
  },
  {
   "cell_type": "code",
   "execution_count": null,
   "id": "11de3f83-1c3a-4b25-b655-adac8eabeff6",
   "metadata": {},
   "outputs": [],
   "source": []
  }
 ],
 "metadata": {
  "kernelspec": {
   "display_name": "Python 3 (ipykernel)",
   "language": "python",
   "name": "python3"
  },
  "language_info": {
   "codemirror_mode": {
    "name": "ipython",
    "version": 3
   },
   "file_extension": ".py",
   "mimetype": "text/x-python",
   "name": "python",
   "nbconvert_exporter": "python",
   "pygments_lexer": "ipython3",
   "version": "3.11.7"
  }
 },
 "nbformat": 4,
 "nbformat_minor": 5
}
