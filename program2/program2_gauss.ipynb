{
 "cells": [
  {
   "cell_type": "code",
   "execution_count": 14,
   "metadata": {},
   "outputs": [],
   "source": [
    "import numpy as np"
   ]
  },
  {
   "cell_type": "code",
   "execution_count": 15,
   "metadata": {},
   "outputs": [
    {
     "data": {
      "text/plain": [
       "array([[3., 2., 3., 4.],\n",
       "       [4., 5., 6., 6.],\n",
       "       [1., 2., 3., 7.],\n",
       "       [1., 2., 3., 1.]])"
      ]
     },
     "execution_count": 15,
     "metadata": {},
     "output_type": "execute_result"
    }
   ],
   "source": [
    "m = np.array([[3,2,3, 4], [4,5,6, 6], [1,2,3, 7], [1,2,3, 1]], dtype=float)\n",
    "m"
   ]
  },
  {
   "cell_type": "code",
   "execution_count": 16,
   "metadata": {},
   "outputs": [],
   "source": [
    "new_column = np.array([[10],\n",
    "                       [11],\n",
    "                       [12],\n",
    "                      [3]])"
   ]
  },
  {
   "cell_type": "markdown",
   "metadata": {},
   "source": [
    "# Ordinary Gauss"
   ]
  },
  {
   "cell_type": "code",
   "execution_count": 17,
   "metadata": {},
   "outputs": [],
   "source": [
    "def gauss(m, b):\n",
    "    m_copy = np.copy(m)\n",
    "    n = m.shape[0]\n",
    "    \n",
    "    m_copy = np.append(m_copy, b, axis=1)\n",
    "    \n",
    "    for row in range(n):\n",
    "        coef_div = m_copy[row][row]\n",
    "        m_copy[row] /= coef_div\n",
    "        \n",
    "        for j in range(row + 1, n):\n",
    "            coef_sub = m_copy[j][row]\n",
    "            m_copy[j] -= m_copy[row]*coef_sub\n",
    "\n",
    "    # we return the matrix and b vector separately\n",
    "    return m_copy[:, :-1], m_copy[:, -1]"
   ]
  },
  {
   "cell_type": "code",
   "execution_count": 18,
   "metadata": {},
   "outputs": [],
   "source": [
    "coef_matrix1, b_vector1 = gauss(m, new_column)"
   ]
  },
  {
   "cell_type": "code",
   "execution_count": 19,
   "metadata": {},
   "outputs": [
    {
     "name": "stdout",
     "output_type": "stream",
     "text": [
      "Macierz współczynników:\n",
      "[[ 1.          0.66666667  1.          1.33333333]\n",
      " [ 0.          1.          0.85714286  0.28571429]\n",
      " [ 0.          0.          1.          6.16666667]\n",
      " [-0.         -0.         -0.          1.        ]]\n",
      "\n",
      "Wektor wynikowy:\n",
      "[ 3.33333333 -1.         11.66666667  1.5       ]\n"
     ]
    }
   ],
   "source": [
    "print(f\"Macierz współczynników:\\n{coef_matrix1}\\n\\nWektor wynikowy:\\n{b_vector1}\")"
   ]
  },
  {
   "cell_type": "markdown",
   "metadata": {},
   "source": [
    "# Gauss with Pivot"
   ]
  },
  {
   "cell_type": "code",
   "execution_count": 20,
   "metadata": {},
   "outputs": [],
   "source": [
    "def gauss_with_pivot(m, b):\n",
    "    m_copy = np.copy(m)\n",
    "    n = m.shape[0]\n",
    "    \n",
    "    m_copy = np.append(m_copy, new_column, axis=1)\n",
    "    \n",
    "    for i in range(n):\n",
    "        if i < (n-1):\n",
    "            pivot = max(m_copy[i+1:, i])\n",
    "            max_row_index = np.argmax(m_copy[i+1:, i]) + i + 1\n",
    "        \n",
    "            if pivot > m_copy[i][i]:\n",
    "                temp_row = np.copy(m_copy[i])\n",
    "                m_copy[i] = m_copy[max_row_index]\n",
    "                m_copy[max_row_index] = temp_row\n",
    "    \n",
    "        for j in range(i + 1, n):   \n",
    "            coef = m_copy[j][i] / m_copy[i][i]\n",
    "            m_copy[j] -= m_copy[i] * coef\n",
    "    \n",
    "   # we return the matrix and b vector separately\n",
    "    return m_copy[:, :-1], m_copy[:, -1]"
   ]
  },
  {
   "cell_type": "code",
   "execution_count": 21,
   "metadata": {},
   "outputs": [],
   "source": [
    "coef_matrix2, b_vector2 = gauss_with_pivot(m, new_column)"
   ]
  },
  {
   "cell_type": "code",
   "execution_count": 22,
   "metadata": {},
   "outputs": [
    {
     "name": "stdout",
     "output_type": "stream",
     "text": [
      "Macierz współczynników:\n",
      "[[ 4.          5.          6.          6.        ]\n",
      " [ 0.          0.75        1.5         5.5       ]\n",
      " [ 0.          0.          2.         12.33333333]\n",
      " [ 0.          0.          0.         -6.        ]]\n",
      "\n",
      "Wektor wynikowy:\n",
      "[11.          9.25       23.33333333 -9.        ]\n"
     ]
    }
   ],
   "source": [
    "print(f\"Macierz współczynników:\\n{coef_matrix2}\\n\\nWektor wynikowy:\\n{b_vector2}\")"
   ]
  },
  {
   "cell_type": "markdown",
   "metadata": {},
   "source": [
    "# General function to solve"
   ]
  },
  {
   "cell_type": "code",
   "execution_count": 23,
   "metadata": {},
   "outputs": [],
   "source": [
    "def solve(m, b, func):\n",
    "\n",
    "    # Gauss elimination\n",
    "    coef_matrix, b_vector = func(m, b)\n",
    "    \n",
    "    # Wsteczne podstawianie\n",
    "    n = len(b_vector)\n",
    "    x = np.zeros(n)\n",
    "    \n",
    "    for i in range(n-1, -1, -1):\n",
    "        x[i] = (b_vector[i] - np.dot(coef_matrix[i,i+1:], x[i+1:])) / coef_matrix[i,i]\n",
    "        \n",
    "    return x"
   ]
  },
  {
   "cell_type": "code",
   "execution_count": 24,
   "metadata": {},
   "outputs": [
    {
     "name": "stdout",
     "output_type": "stream",
     "text": [
      "Rozwiązanie układu równań: [ 1.25       -3.5         2.41666667  1.5       ]\n"
     ]
    }
   ],
   "source": [
    "result1 = solve(m, new_column, gauss)\n",
    "print(\"Rozwiązanie układu równań:\", result1)"
   ]
  },
  {
   "cell_type": "code",
   "execution_count": 25,
   "metadata": {},
   "outputs": [
    {
     "name": "stdout",
     "output_type": "stream",
     "text": [
      "Rozwiązanie układu równań: [ 1.25       -3.5         2.41666667  1.5       ]\n"
     ]
    }
   ],
   "source": [
    "result2 = solve(m, new_column, gauss_with_pivot)\n",
    "print(\"Rozwiązanie układu równań:\", result2)"
   ]
  },
  {
   "cell_type": "code",
   "execution_count": null,
   "metadata": {},
   "outputs": [],
   "source": []
  }
 ],
 "metadata": {
  "kernelspec": {
   "display_name": "Python 3 (ipykernel)",
   "language": "python",
   "name": "python3"
  },
  "language_info": {
   "codemirror_mode": {
    "name": "ipython",
    "version": 3
   },
   "file_extension": ".py",
   "mimetype": "text/x-python",
   "name": "python",
   "nbconvert_exporter": "python",
   "pygments_lexer": "ipython3",
   "version": "3.11.7"
  }
 },
 "nbformat": 4,
 "nbformat_minor": 4
}
