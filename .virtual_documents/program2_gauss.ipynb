import numpy as np


m = np.array([[3,2,3, 4], [4,5,6, 6], [1,2,3, 7], [1,2,3, 1]], dtype=float)
m


new_column = np.array([[10],
                       [11],
                       [12],
                      [3]])





def gauss(m, b):
    m_copy = np.copy(m)
    n = m.shape[0]
    
    m_copy = np.append(m_copy, b, axis=1)
    
    for row in range(n):
        coef_div = m_copy[row][row]
        m_copy[row] /= coef_div
        
        for j in range(row + 1, n):
            coef_sub = m_copy[j][row]
            m_copy[j] -= m_copy[row]*coef_sub

    # we return the matrix and b vector separately
    return m_copy[:, :-1], m_copy[:, -1]


coef_matrix1, b_vector1 = gauss(m, new_column)


print(f"Macierz współczynników:\n{coef_matrix1}\n\nWektor wynikowy:\n{b_vector1}")





def gauss_with_pivot(m, b):
    m_copy = np.copy(m)
    n = m.shape[0]
    
    m_copy = np.append(m_copy, new_column, axis=1)
    
    for i in range(n):
        if i < (n-1):
            pivot = max(m_copy[i+1:, i])
            max_row_index = np.argmax(m_copy[i+1:, i]) + i + 1
        
            if pivot > m_copy[i][i]:
                temp_row = np.copy(m_copy[i])
                m_copy[i] = m_copy[max_row_index]
                m_copy[max_row_index] = temp_row
    
        for j in range(i + 1, n):   
            coef = m_copy[j][i] / m_copy[i][i]
            m_copy[j] -= m_copy[i] * coef
    
   # we return the matrix and b vector separately
    return m_copy[:, :-1], m_copy[:, -1]


coef_matrix2, b_vector2 = gauss_with_pivot(m, new_column)


print(f"Macierz współczynników:\n{coef_matrix2}\n\nWektor wynikowy:\n{b_vector2}")





def solve(m, b, func):

    # Gauss elimination
    coef_matrix, b_vector = func(m, b)
    
    # Wsteczne podstawianie
    n = len(b_vector)
    x = np.zeros(n)
    
    for i in range(n-1, -1, -1):
        x[i] = (b_vector[i] - np.dot(coef_matrix[i,i+1:], x[i+1:])) / coef_matrix[i,i]
        
    return x


result1 = solve(m, new_column, gauss)
print("Rozwiązanie układu równań:", result1)


result2 = solve(m, new_column, gauss_with_pivot)
print("Rozwiązanie układu równań:", result2)



